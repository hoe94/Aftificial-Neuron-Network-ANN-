{
 "cells": [
  {
   "cell_type": "code",
   "execution_count": 1,
   "metadata": {},
   "outputs": [],
   "source": [
    "import pandas as pd\n",
    "import numpy as np\n",
    "import matplotlib.pyplot as plt\n",
    "import seaborn as sns"
   ]
  },
  {
   "cell_type": "code",
   "execution_count": 2,
   "metadata": {},
   "outputs": [
    {
     "data": {
      "text/html": [
       "<div>\n",
       "<style scoped>\n",
       "    .dataframe tbody tr th:only-of-type {\n",
       "        vertical-align: middle;\n",
       "    }\n",
       "\n",
       "    .dataframe tbody tr th {\n",
       "        vertical-align: top;\n",
       "    }\n",
       "\n",
       "    .dataframe thead th {\n",
       "        text-align: right;\n",
       "    }\n",
       "</style>\n",
       "<table border=\"1\" class=\"dataframe\">\n",
       "  <thead>\n",
       "    <tr style=\"text-align: right;\">\n",
       "      <th></th>\n",
       "      <th>RowNumber</th>\n",
       "      <th>CustomerId</th>\n",
       "      <th>Surname</th>\n",
       "      <th>CreditScore</th>\n",
       "      <th>Geography</th>\n",
       "      <th>Gender</th>\n",
       "      <th>Age</th>\n",
       "      <th>Tenure</th>\n",
       "      <th>Balance</th>\n",
       "      <th>NumOfProducts</th>\n",
       "      <th>HasCrCard</th>\n",
       "      <th>IsActiveMember</th>\n",
       "      <th>EstimatedSalary</th>\n",
       "      <th>Exited</th>\n",
       "    </tr>\n",
       "  </thead>\n",
       "  <tbody>\n",
       "    <tr>\n",
       "      <th>0</th>\n",
       "      <td>1</td>\n",
       "      <td>15634602</td>\n",
       "      <td>Hargrave</td>\n",
       "      <td>619</td>\n",
       "      <td>France</td>\n",
       "      <td>Female</td>\n",
       "      <td>42</td>\n",
       "      <td>2</td>\n",
       "      <td>0.00</td>\n",
       "      <td>1</td>\n",
       "      <td>1</td>\n",
       "      <td>1</td>\n",
       "      <td>101348.88</td>\n",
       "      <td>1</td>\n",
       "    </tr>\n",
       "    <tr>\n",
       "      <th>1</th>\n",
       "      <td>2</td>\n",
       "      <td>15647311</td>\n",
       "      <td>Hill</td>\n",
       "      <td>608</td>\n",
       "      <td>Spain</td>\n",
       "      <td>Female</td>\n",
       "      <td>41</td>\n",
       "      <td>1</td>\n",
       "      <td>83807.86</td>\n",
       "      <td>1</td>\n",
       "      <td>0</td>\n",
       "      <td>1</td>\n",
       "      <td>112542.58</td>\n",
       "      <td>0</td>\n",
       "    </tr>\n",
       "    <tr>\n",
       "      <th>2</th>\n",
       "      <td>3</td>\n",
       "      <td>15619304</td>\n",
       "      <td>Onio</td>\n",
       "      <td>502</td>\n",
       "      <td>France</td>\n",
       "      <td>Female</td>\n",
       "      <td>42</td>\n",
       "      <td>8</td>\n",
       "      <td>159660.80</td>\n",
       "      <td>3</td>\n",
       "      <td>1</td>\n",
       "      <td>0</td>\n",
       "      <td>113931.57</td>\n",
       "      <td>1</td>\n",
       "    </tr>\n",
       "    <tr>\n",
       "      <th>3</th>\n",
       "      <td>4</td>\n",
       "      <td>15701354</td>\n",
       "      <td>Boni</td>\n",
       "      <td>699</td>\n",
       "      <td>France</td>\n",
       "      <td>Female</td>\n",
       "      <td>39</td>\n",
       "      <td>1</td>\n",
       "      <td>0.00</td>\n",
       "      <td>2</td>\n",
       "      <td>0</td>\n",
       "      <td>0</td>\n",
       "      <td>93826.63</td>\n",
       "      <td>0</td>\n",
       "    </tr>\n",
       "    <tr>\n",
       "      <th>4</th>\n",
       "      <td>5</td>\n",
       "      <td>15737888</td>\n",
       "      <td>Mitchell</td>\n",
       "      <td>850</td>\n",
       "      <td>Spain</td>\n",
       "      <td>Female</td>\n",
       "      <td>43</td>\n",
       "      <td>2</td>\n",
       "      <td>125510.82</td>\n",
       "      <td>1</td>\n",
       "      <td>1</td>\n",
       "      <td>1</td>\n",
       "      <td>79084.10</td>\n",
       "      <td>0</td>\n",
       "    </tr>\n",
       "  </tbody>\n",
       "</table>\n",
       "</div>"
      ],
      "text/plain": [
       "   RowNumber  CustomerId   Surname  CreditScore Geography  Gender  Age  \\\n",
       "0          1    15634602  Hargrave          619    France  Female   42   \n",
       "1          2    15647311      Hill          608     Spain  Female   41   \n",
       "2          3    15619304      Onio          502    France  Female   42   \n",
       "3          4    15701354      Boni          699    France  Female   39   \n",
       "4          5    15737888  Mitchell          850     Spain  Female   43   \n",
       "\n",
       "   Tenure    Balance  NumOfProducts  HasCrCard  IsActiveMember  \\\n",
       "0       2       0.00              1          1               1   \n",
       "1       1   83807.86              1          0               1   \n",
       "2       8  159660.80              3          1               0   \n",
       "3       1       0.00              2          0               0   \n",
       "4       2  125510.82              1          1               1   \n",
       "\n",
       "   EstimatedSalary  Exited  \n",
       "0        101348.88       1  \n",
       "1        112542.58       0  \n",
       "2        113931.57       1  \n",
       "3         93826.63       0  \n",
       "4         79084.10       0  "
      ]
     },
     "execution_count": 2,
     "metadata": {},
     "output_type": "execute_result"
    }
   ],
   "source": [
    "dataset = pd.read_csv('/Dataset/Churn_Modelling.csv')\n",
    "dataset.head()"
   ]
  },
  {
   "cell_type": "code",
   "execution_count": 3,
   "metadata": {},
   "outputs": [],
   "source": [
    "x = dataset.iloc[:, 3:13]\n",
    "y = dataset.iloc[:, 13]"
   ]
  },
  {
   "cell_type": "code",
   "execution_count": 4,
   "metadata": {},
   "outputs": [],
   "source": [
    "#Create the dummy variables\n",
    "geography = pd.get_dummies(x[\"Geography\"],drop_first=True)\n",
    "gender = pd.get_dummies(x['Gender'],drop_first=True)"
   ]
  },
  {
   "cell_type": "code",
   "execution_count": 5,
   "metadata": {},
   "outputs": [],
   "source": [
    "#Concat geography & gender with X\n",
    "\n",
    "x = pd.concat([x,geography,gender],axis=1)\n",
    "x = x.drop(['Geography','Gender'],axis=1)"
   ]
  },
  {
   "cell_type": "code",
   "execution_count": 6,
   "metadata": {},
   "outputs": [],
   "source": [
    "from sklearn.model_selection import train_test_split\n",
    "\n",
    "x_train, x_test, y_train, y_test = train_test_split(x, y, test_size = 0.2, random_state = 0)"
   ]
  },
  {
   "cell_type": "code",
   "execution_count": 7,
   "metadata": {},
   "outputs": [],
   "source": [
    "from sklearn.preprocessing import StandardScaler\n",
    "sc = StandardScaler()\n",
    "x_train = sc.fit_transform(x_train)\n",
    "x_test = sc.transform(x_test)"
   ]
  },
  {
   "cell_type": "markdown",
   "metadata": {},
   "source": [
    "### A-NN"
   ]
  },
  {
   "cell_type": "code",
   "execution_count": 8,
   "metadata": {},
   "outputs": [],
   "source": [
    "import keras\n",
    "from keras.models import Sequential #create the neuron network (ANN) model\n",
    "from keras.layers import Dense #create the hidden layer\n",
    "from keras.layers import LeakyReLU, PReLU, ELU #Activation Function\n",
    "from keras.layers import Dropout #Hyperparameter Optimization"
   ]
  },
  {
   "cell_type": "code",
   "execution_count": 9,
   "metadata": {},
   "outputs": [],
   "source": [
    "#Ann Model\n",
    "classifier = Sequential()"
   ]
  },
  {
   "cell_type": "code",
   "execution_count": 10,
   "metadata": {},
   "outputs": [],
   "source": [
    "#input layer & first hidden layer\n",
    "classifier.add(Dense(units=6,kernel_initializer='he_uniform',activation='relu',input_dim=11))"
   ]
  },
  {
   "cell_type": "markdown",
   "metadata": {},
   "source": [
    "1. units: the number of neurons of output data (6)\n",
    "2. kernel_initializer: weight initialization\n",
    "3. activation: activation function\n",
    "4. input_dim: the number of neurons of input data (11 columns)"
   ]
  },
  {
   "cell_type": "code",
   "execution_count": 11,
   "metadata": {},
   "outputs": [],
   "source": [
    "#2nd hidden layer\n",
    "classifier.add(Dense(units=6,kernel_initializer='he_uniform',activation='relu'))\n",
    "\n",
    "#Output Layer\n",
    "classifier.add(Dense(units=1,kernel_initializer='glorot_uniform',activation='sigmoid'))"
   ]
  },
  {
   "cell_type": "code",
   "execution_count": 12,
   "metadata": {},
   "outputs": [],
   "source": [
    "#Compiling the ANN\n",
    "classifier.compile(loss= 'binary_crossentropy',optimizer='Adamax',metrics = 'accuracy')"
   ]
  },
  {
   "cell_type": "markdown",
   "metadata": {},
   "source": [
    "1. loss: the loss function -> binary_crossentropy: binary classfication\n",
    "2. optimizer: GD, SGD, mini batch SGD\n",
    "3. Metrics"
   ]
  },
  {
   "cell_type": "code",
   "execution_count": 13,
   "metadata": {},
   "outputs": [
    {
     "name": "stdout",
     "output_type": "stream",
     "text": [
      "Epoch 1/50\n",
      "536/536 [==============================] - 1s 1ms/step - loss: 0.5789 - accuracy: 0.7567 - val_loss: 0.5256 - val_accuracy: 0.7834\n",
      "Epoch 2/50\n",
      "536/536 [==============================] - 0s 928us/step - loss: 0.5070 - accuracy: 0.7936 - val_loss: 0.4957 - val_accuracy: 0.7940\n",
      "Epoch 3/50\n",
      "536/536 [==============================] - 0s 842us/step - loss: 0.4845 - accuracy: 0.7983 - val_loss: 0.4814 - val_accuracy: 0.7944\n",
      "Epoch 4/50\n",
      "536/536 [==============================] - 0s 774us/step - loss: 0.4703 - accuracy: 0.7987 - val_loss: 0.4718 - val_accuracy: 0.7967\n",
      "Epoch 5/50\n",
      "536/536 [==============================] - 0s 825us/step - loss: 0.4599 - accuracy: 0.8028 - val_loss: 0.4649 - val_accuracy: 0.7989\n",
      "Epoch 6/50\n",
      "536/536 [==============================] - 0s 772us/step - loss: 0.4513 - accuracy: 0.8052 - val_loss: 0.4597 - val_accuracy: 0.8023\n",
      "Epoch 7/50\n",
      "536/536 [==============================] - 0s 761us/step - loss: 0.4449 - accuracy: 0.8061 - val_loss: 0.4559 - val_accuracy: 0.8050\n",
      "Epoch 8/50\n",
      "536/536 [==============================] - 0s 783us/step - loss: 0.4398 - accuracy: 0.8091 - val_loss: 0.4524 - val_accuracy: 0.8039\n",
      "Epoch 9/50\n",
      "536/536 [==============================] - 0s 875us/step - loss: 0.4353 - accuracy: 0.8095 - val_loss: 0.4495 - val_accuracy: 0.8042\n",
      "Epoch 10/50\n",
      "536/536 [==============================] - 0s 883us/step - loss: 0.4317 - accuracy: 0.8119 - val_loss: 0.4470 - val_accuracy: 0.8042\n",
      "Epoch 11/50\n",
      "536/536 [==============================] - 0s 873us/step - loss: 0.4285 - accuracy: 0.8145 - val_loss: 0.4444 - val_accuracy: 0.8039\n",
      "Epoch 12/50\n",
      "536/536 [==============================] - 0s 828us/step - loss: 0.4254 - accuracy: 0.8158 - val_loss: 0.4417 - val_accuracy: 0.8046\n",
      "Epoch 13/50\n",
      "536/536 [==============================] - 0s 829us/step - loss: 0.4227 - accuracy: 0.8177 - val_loss: 0.4392 - val_accuracy: 0.8054\n",
      "Epoch 14/50\n",
      "536/536 [==============================] - 0s 874us/step - loss: 0.4200 - accuracy: 0.8186 - val_loss: 0.4368 - val_accuracy: 0.8065\n",
      "Epoch 15/50\n",
      "536/536 [==============================] - 0s 856us/step - loss: 0.4175 - accuracy: 0.8214 - val_loss: 0.4341 - val_accuracy: 0.8065\n",
      "Epoch 16/50\n",
      "536/536 [==============================] - 0s 890us/step - loss: 0.4149 - accuracy: 0.8214 - val_loss: 0.4316 - val_accuracy: 0.8076\n",
      "Epoch 17/50\n",
      "536/536 [==============================] - 0s 889us/step - loss: 0.4126 - accuracy: 0.8237 - val_loss: 0.4295 - val_accuracy: 0.8103\n",
      "Epoch 18/50\n",
      "536/536 [==============================] - 1s 976us/step - loss: 0.4102 - accuracy: 0.8259 - val_loss: 0.4271 - val_accuracy: 0.8141\n",
      "Epoch 19/50\n",
      "536/536 [==============================] - 1s 1ms/step - loss: 0.4079 - accuracy: 0.8278 - val_loss: 0.4246 - val_accuracy: 0.8148\n",
      "Epoch 20/50\n",
      "536/536 [==============================] - 0s 932us/step - loss: 0.4057 - accuracy: 0.8291 - val_loss: 0.4224 - val_accuracy: 0.8160\n",
      "Epoch 21/50\n",
      "536/536 [==============================] - 0s 899us/step - loss: 0.4034 - accuracy: 0.8306 - val_loss: 0.4204 - val_accuracy: 0.8175\n",
      "Epoch 22/50\n",
      "536/536 [==============================] - 1s 934us/step - loss: 0.4012 - accuracy: 0.8306 - val_loss: 0.4183 - val_accuracy: 0.8175\n",
      "Epoch 23/50\n",
      "536/536 [==============================] - 1s 968us/step - loss: 0.3989 - accuracy: 0.8328 - val_loss: 0.4162 - val_accuracy: 0.8186\n",
      "Epoch 24/50\n",
      "536/536 [==============================] - 0s 890us/step - loss: 0.3967 - accuracy: 0.8336 - val_loss: 0.4145 - val_accuracy: 0.8183\n",
      "Epoch 25/50\n",
      "536/536 [==============================] - 1s 945us/step - loss: 0.3946 - accuracy: 0.8347 - val_loss: 0.4120 - val_accuracy: 0.8183\n",
      "Epoch 26/50\n",
      "536/536 [==============================] - 0s 841us/step - loss: 0.3925 - accuracy: 0.8367 - val_loss: 0.4101 - val_accuracy: 0.8205\n",
      "Epoch 27/50\n",
      "536/536 [==============================] - 1s 1ms/step - loss: 0.3905 - accuracy: 0.8371 - val_loss: 0.4080 - val_accuracy: 0.8224\n",
      "Epoch 28/50\n",
      "536/536 [==============================] - 1s 1ms/step - loss: 0.3882 - accuracy: 0.8365 - val_loss: 0.4059 - val_accuracy: 0.8239\n",
      "Epoch 29/50\n",
      "536/536 [==============================] - 1s 936us/step - loss: 0.3863 - accuracy: 0.8378 - val_loss: 0.4040 - val_accuracy: 0.8254\n",
      "Epoch 30/50\n",
      "536/536 [==============================] - 1s 1ms/step - loss: 0.3842 - accuracy: 0.8377 - val_loss: 0.4018 - val_accuracy: 0.8247\n",
      "Epoch 31/50\n",
      "536/536 [==============================] - 0s 932us/step - loss: 0.3821 - accuracy: 0.8395 - val_loss: 0.3996 - val_accuracy: 0.8266\n",
      "Epoch 32/50\n",
      "536/536 [==============================] - 0s 871us/step - loss: 0.3799 - accuracy: 0.8393 - val_loss: 0.3976 - val_accuracy: 0.8254\n",
      "Epoch 33/50\n",
      "536/536 [==============================] - 0s 914us/step - loss: 0.3777 - accuracy: 0.8418 - val_loss: 0.3955 - val_accuracy: 0.8254\n",
      "Epoch 34/50\n",
      "536/536 [==============================] - 0s 805us/step - loss: 0.3752 - accuracy: 0.8431 - val_loss: 0.3936 - val_accuracy: 0.8258\n",
      "Epoch 35/50\n",
      "536/536 [==============================] - 0s 809us/step - loss: 0.3731 - accuracy: 0.8429 - val_loss: 0.3918 - val_accuracy: 0.8258\n",
      "Epoch 36/50\n",
      "536/536 [==============================] - 0s 803us/step - loss: 0.3709 - accuracy: 0.8451 - val_loss: 0.3900 - val_accuracy: 0.8292\n",
      "Epoch 37/50\n",
      "536/536 [==============================] - 0s 789us/step - loss: 0.3687 - accuracy: 0.8451 - val_loss: 0.3883 - val_accuracy: 0.8277\n",
      "Epoch 38/50\n",
      "536/536 [==============================] - 0s 886us/step - loss: 0.3668 - accuracy: 0.8461 - val_loss: 0.3868 - val_accuracy: 0.8304\n",
      "Epoch 39/50\n",
      "536/536 [==============================] - 0s 787us/step - loss: 0.3649 - accuracy: 0.8479 - val_loss: 0.3853 - val_accuracy: 0.8311\n",
      "Epoch 40/50\n",
      "536/536 [==============================] - 1s 945us/step - loss: 0.3633 - accuracy: 0.8485 - val_loss: 0.3838 - val_accuracy: 0.8342\n",
      "Epoch 41/50\n",
      "536/536 [==============================] - 0s 861us/step - loss: 0.3614 - accuracy: 0.8472 - val_loss: 0.3824 - val_accuracy: 0.8364\n",
      "Epoch 42/50\n",
      "536/536 [==============================] - 0s 853us/step - loss: 0.3599 - accuracy: 0.8490 - val_loss: 0.3811 - val_accuracy: 0.8379\n",
      "Epoch 43/50\n",
      "536/536 [==============================] - 0s 926us/step - loss: 0.3584 - accuracy: 0.8492 - val_loss: 0.3798 - val_accuracy: 0.8395\n",
      "Epoch 44/50\n",
      "536/536 [==============================] - 0s 825us/step - loss: 0.3570 - accuracy: 0.8496 - val_loss: 0.3787 - val_accuracy: 0.8402\n",
      "Epoch 45/50\n",
      "536/536 [==============================] - 0s 888us/step - loss: 0.3555 - accuracy: 0.8502 - val_loss: 0.3776 - val_accuracy: 0.8421\n",
      "Epoch 46/50\n",
      "536/536 [==============================] - 0s 796us/step - loss: 0.3541 - accuracy: 0.8518 - val_loss: 0.3766 - val_accuracy: 0.8444\n",
      "Epoch 47/50\n",
      "536/536 [==============================] - 0s 815us/step - loss: 0.3526 - accuracy: 0.8526 - val_loss: 0.3758 - val_accuracy: 0.8402\n",
      "Epoch 48/50\n",
      "536/536 [==============================] - 0s 860us/step - loss: 0.3519 - accuracy: 0.8533 - val_loss: 0.3746 - val_accuracy: 0.8440\n",
      "Epoch 49/50\n",
      "536/536 [==============================] - 0s 789us/step - loss: 0.3506 - accuracy: 0.8545 - val_loss: 0.3737 - val_accuracy: 0.8455\n",
      "Epoch 50/50\n",
      "536/536 [==============================] - 0s 817us/step - loss: 0.3496 - accuracy: 0.8546 - val_loss: 0.3727 - val_accuracy: 0.8459\n"
     ]
    }
   ],
   "source": [
    "#fit the ANN model into the training set\n",
    "model_history = classifier.fit(x_train,y_train,validation_split=0.33, batch_size = 10,epochs =50)"
   ]
  },
  {
   "cell_type": "markdown",
   "metadata": {},
   "source": [
    "1. validation_split: the size of training data used as validation data\n",
    "2. batch_size: Number of samples per gradient update.\n",
    "3. nb_epoch: the number of the iteration to train the model"
   ]
  },
  {
   "cell_type": "code",
   "execution_count": 14,
   "metadata": {},
   "outputs": [
    {
     "name": "stdout",
     "output_type": "stream",
     "text": [
      "dict_keys(['loss', 'accuracy', 'val_loss', 'val_accuracy'])\n"
     ]
    },
    {
     "data": {
      "image/png": "[encoded data removed]",
      "text/plain": [
       "<Figure size 432x288 with 1 Axes>"
      ]
     },
     "metadata": {
      "needs_background": "light"
     },
     "output_type": "display_data"
    }
   ],
   "source": [
    "print(model_history.history.keys())\n",
    "# summarize history for accuracy\n",
    "plt.plot(model_history.history['accuracy'])\n",
    "plt.plot(model_history.history['val_accuracy'])\n",
    "plt.title('model accuracy')\n",
    "plt.ylabel('accuracy')\n",
    "plt.xlabel('epoch')\n",
    "plt.legend(['train', 'test'], loc='upper left')\n",
    "plt.show()"
   ]
  },
  {
   "cell_type": "code",
   "execution_count": 15,
   "metadata": {},
   "outputs": [
    {
     "data": {
      "image/png": "[encoded data removed]",
      "text/plain": [
       "<Figure size 432x288 with 1 Axes>"
      ]
     },
     "metadata": {
      "needs_background": "light"
     },
     "output_type": "display_data"
    }
   ],
   "source": [
    "plt.plot(model_history.history['loss'])\n",
    "plt.plot(model_history.history['val_loss'])\n",
    "plt.title('model loss')\n",
    "plt.ylabel('loss')\n",
    "plt.xlabel('epoch')\n",
    "plt.legend(['train', 'test'], loc='upper left')\n",
    "plt.show()"
   ]
  },
  {
   "cell_type": "code",
   "execution_count": 16,
   "metadata": {},
   "outputs": [],
   "source": [
    "y_pred = classifier.predict(x_test)\n",
    "y_pred = (y_pred >0.5)"
   ]
  },
  {
   "cell_type": "code",
   "execution_count": 17,
   "metadata": {},
   "outputs": [
    {
     "data": {
      "image/png": "[encoded data removed]",
      "text/plain": [
       "<Figure size 432x288 with 2 Axes>"
      ]
     },
     "metadata": {
      "needs_background": "light"
     },
     "output_type": "display_data"
    }
   ],
   "source": [
    "from sklearn.metrics import confusion_matrix\n",
    "cm = confusion_matrix(y_test, y_pred)\n",
    "sns.heatmap(cm,annot=True,fmt='g',cmap='Blues')\n",
    "plt.show()"
   ]
  },
  {
   "cell_type": "code",
   "execution_count": 18,
   "metadata": {},
   "outputs": [
    {
     "data": {
      "text/plain": [
       "0.854"
      ]
     },
     "execution_count": 18,
     "metadata": {},
     "output_type": "execute_result"
    }
   ],
   "source": [
    "from sklearn.metrics import accuracy_score\n",
    "accuracy_score(y_test,y_pred)"
   ]
  }
 ],
 "metadata": {
  "kernelspec": {
   "display_name": "Python 3",
   "language": "python",
   "name": "python3"
  },
  "language_info": {
   "codemirror_mode": {
    "name": "ipython",
    "version": 3
   },
   "file_extension": ".py",
   "mimetype": "text/x-python",
   "name": "python",
   "nbconvert_exporter": "python",
   "pygments_lexer": "ipython3",
   "version": "3.7.6"
  }
 },
 "nbformat": 4,
 "nbformat_minor": 4
}
